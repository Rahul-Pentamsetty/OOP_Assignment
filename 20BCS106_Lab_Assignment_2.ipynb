{
 "cells": [
  {
   "cell_type": "code",
   "execution_count": 4,
   "source": [
    "x=4\r\n",
    "y=9\r\n",
    "print(x, type(x))\r\n",
    "print(y, type(y))"
   ],
   "outputs": [
    {
     "output_type": "stream",
     "name": "stdout",
     "text": [
      "4 <class 'int'>\n",
      "9 <class 'int'>\n"
     ]
    }
   ],
   "metadata": {}
  },
  {
   "cell_type": "code",
   "execution_count": 5,
   "source": [
    "x=2\r\n",
    "y=3\r\n",
    "print(x+4)  \r\n",
    "print(y-2)   \r\n",
    "print(y*2*x)   \r\n",
    "print(x**2)"
   ],
   "outputs": [
    {
     "output_type": "stream",
     "name": "stdout",
     "text": [
      "6\n",
      "1\n",
      "12\n",
      "4\n"
     ]
    }
   ],
   "metadata": {}
  },
  {
   "cell_type": "code",
   "execution_count": 6,
   "source": [
    "x=1\r\n",
    "x+=5\r\n",
    "print(x)\r\n",
    "x*=5\r\n",
    "print(x) "
   ],
   "outputs": [
    {
     "output_type": "stream",
     "name": "stdout",
     "text": [
      "6\n",
      "30\n"
     ]
    }
   ],
   "metadata": {}
  },
  {
   "cell_type": "code",
   "execution_count": 7,
   "source": [
    "y = 6.7\r\n",
    "print(type(y))\r\n",
    "print(y,y+2,y*3,y**2)"
   ],
   "outputs": [
    {
     "output_type": "stream",
     "name": "stdout",
     "text": [
      "<class 'float'>\n",
      "6.7 8.7 20.1 44.89\n"
     ]
    }
   ],
   "metadata": {}
  },
  {
   "cell_type": "code",
   "execution_count": null,
   "source": [
    "x,y=True,False\r\n",
    "print(type(x))"
   ],
   "outputs": [],
   "metadata": {}
  },
  {
   "cell_type": "code",
   "execution_count": null,
   "source": [
    "x,y=True,False\r\n",
    "print(x and y)#AND;\r\n",
    "print(x or y) #OR;\r\n",
    "print(not x)  #NOT;\r\n",
    "print(x != y) #XOR;"
   ],
   "outputs": [],
   "metadata": {}
  },
  {
   "cell_type": "code",
   "execution_count": null,
   "source": [
    "str1='Hello' #string literals can be used between single or double quotes\r\n",
    "str2=\"World\"   \r\n",
    "print(str1,len(str2))"
   ],
   "outputs": [],
   "metadata": {}
  },
  {
   "cell_type": "code",
   "execution_count": null,
   "source": [
    "str1='Hello' \r\n",
    "str2=\"World\"\r\n",
    "str3=str1+'to'+'the'+str2 # string concatenation\r\n",
    "print(str3)\r\n"
   ],
   "outputs": [],
   "metadata": {}
  },
  {
   "cell_type": "code",
   "execution_count": null,
   "source": [
    "str1='Hello' \r\n",
    "str2=\"World\"\r\n",
    "str3 = '{} {} {}'.format(str1, str2, 'India')  # string formatting\r\n",
    "print(str3)"
   ],
   "outputs": [],
   "metadata": {}
  },
  {
   "cell_type": "code",
   "execution_count": null,
   "source": [
    "s=\"Hello World\"\r\n",
    "print(s.capitalize())  # Capitalize a string\r\n",
    "print(s.upper())       # Convert a string to uppercase\r\n",
    "print(s.rjust(5))      # Right-justify a string, padding with spaces\r\n",
    "print(s.center(5))     # Center a string, padding with spaces\r\n",
    "print(s.replace('l', '(ell)'))  # Replace all instances of one substring with another\r\n",
    "print('  World '.strip())  # Strip leading and trailing whitespace"
   ],
   "outputs": [],
   "metadata": {}
  },
  {
   "cell_type": "code",
   "execution_count": null,
   "source": [
    "list1 = [1, 2, 3]   # Creating a list\r\n",
    "print(list1, list1[2])\r\n",
    "print(list1[-1])  "
   ],
   "outputs": [],
   "metadata": {}
  },
  {
   "cell_type": "code",
   "execution_count": null,
   "source": [
    "list1 = [1, 2, 3]\r\n",
    "list1[2] = 'Hi'    # lists can contain elements of different types\r\n",
    "print(list1)"
   ],
   "outputs": [],
   "metadata": {}
  },
  {
   "cell_type": "code",
   "execution_count": null,
   "source": [
    "list1 = [1, 2, 3]\r\n",
    "list1.append('Hello') # add a new element to the end of the list\r\n",
    "print(list1)   "
   ],
   "outputs": [],
   "metadata": {}
  },
  {
   "cell_type": "code",
   "execution_count": null,
   "source": [
    "list1 = [1, 2, 3]\r\n",
    "list2 = list1.pop()     # Remove and return the last element of the list\r\n",
    "print(list1, list2)"
   ],
   "outputs": [],
   "metadata": {}
  },
  {
   "cell_type": "code",
   "execution_count": null,
   "source": [
    "s=list(range(5))    # range is a built-in function that creates a list of integers\r\n",
    "print(s)         # Prints \"[0, 1, 2, 3, 4]\"\r\n",
    "print(s[2:4])    # Get a slice from index 2 to 4 (exclusive); prints \"[2, 3]\"\r\n",
    "print(s[2:])     # Get a slice from index 2 to the end; prints \"[2, 3, 4]\"\r\n",
    "print(s[:2])     # Get a slice from the start to index 2 (exclusive); prints \"[0, 1]\"\r\n",
    "print(s[:])      # Get a slice of the whole list; prints [\"0, 1, 2, 3, 4]\"\r\n",
    "print(s[:-1])    # Slice indices can be negative; prints [\"0, 1, 2, 3]\"\r\n",
    "s[2:4] = [8, 9] # Assign a new sublist to a slice\r\n",
    "print(s)         # Prints \"[0, 1, 8, 9, 4]\""
   ],
   "outputs": [],
   "metadata": {}
  },
  {
   "cell_type": "code",
   "execution_count": null,
   "source": [
    "animals=['Lion','Elephant','Tiger']\r\n",
    "for animal in animals:\r\n",
    "    print(animal)"
   ],
   "outputs": [],
   "metadata": {}
  },
  {
   "cell_type": "code",
   "execution_count": null,
   "source": [
    "animals=['Lion', 'Elephant', 'Tiger']\r\n",
    "for i,animal in enumerate(animals):\r\n",
    "    print('#{}: {}'.format(i+1,animal))"
   ],
   "outputs": [],
   "metadata": {}
  },
  {
   "cell_type": "code",
   "execution_count": null,
   "source": [
    "nums=[1,2,3,4]\r\n",
    "squares=[]\r\n",
    "for x in nums:\r\n",
    "    squares.append(x**2)\r\n",
    "print(squares)"
   ],
   "outputs": [],
   "metadata": {}
  },
  {
   "cell_type": "code",
   "execution_count": null,
   "source": [
    "nums=[0,1,2,3,4]\r\n",
    "squares=[x**2 for x in nums]\r\n",
    "print(squares)"
   ],
   "outputs": [],
   "metadata": {}
  },
  {
   "cell_type": "code",
   "execution_count": null,
   "source": [
    "nums=[0,1,2,3,4]\r\n",
    "even_squares=[x**2 for x in nums if x%2==0]\r\n",
    "print(even_squares)"
   ],
   "outputs": [],
   "metadata": {}
  },
  {
   "cell_type": "code",
   "execution_count": null,
   "source": [
    "items={'mat':'black','pencil':'red'}  \r\n",
    "print(items['mat'])       \r\n",
    "print('mat' in items)   \r\n",
    "items['food']='hot'    \r\n",
    "print(items['food'])      \r\n",
    "print(items['pen'])  \r\n",
    "print(items.get('food','N/A'))  \r\n",
    "print(items.get('pencil','N/A'))    \r\n",
    "del items['pencil']       \r\n",
    "print(items.get('pencil','N/A')) "
   ],
   "outputs": [],
   "metadata": {}
  },
  {
   "cell_type": "code",
   "execution_count": null,
   "source": [
    "data={'person':1,'cat':4,'spider':8}\r\n",
    "for animal,legs in data.items():\r\n",
    "    print('A {} has {} legs'.format(animal, legs))"
   ],
   "outputs": [],
   "metadata": {}
  },
  {
   "cell_type": "code",
   "execution_count": null,
   "source": [
    "animals = {'tiger','elephant'}\r\n",
    "print('tiger' in animals)  \r\n",
    "print('lion' in animals)  \r\n",
    "animals.add('camel')      \r\n",
    "print('camel' in animals)\r\n",
    "print(len(animals))      \r\n",
    "animals.add('fox')      \r\n",
    "print(len(animals))       \r\n",
    "animals.remove('fox')    \r\n",
    "print(len(animals))"
   ],
   "outputs": [],
   "metadata": {}
  },
  {
   "cell_type": "code",
   "execution_count": null,
   "source": [
    "animals={'cat', 'rabbit', 'fish'}\r\n",
    "for i,animal in enumerate(animals):\r\n",
    "    print('#{}: {}'.format(i+1,animal))"
   ],
   "outputs": [],
   "metadata": {}
  },
  {
   "cell_type": "code",
   "execution_count": null,
   "source": [
    "from math import sqrt\r\n",
    "print({int(sqrt(x)) for x in range(30)})"
   ],
   "outputs": [],
   "metadata": {}
  },
  {
   "cell_type": "code",
   "execution_count": null,
   "source": [
    "d={(x,x+1): x for x in range(10)}  \r\n",
    "t=(5, 6)       # Create a tuple\r\n",
    "print(type(t))\r\n",
    "print(d[t])       \r\n",
    "print(d[(1, 2)])\r\n",
    "t[0]=1"
   ],
   "outputs": [],
   "metadata": {}
  },
  {
   "cell_type": "code",
   "execution_count": null,
   "source": [
    "def sign(x):\r\n",
    "    if x>0:\r\n",
    "        return 'positive'\r\n",
    "    elif x<0:\r\n",
    "        return 'negative'\r\n",
    "    else:\r\n",
    "        return 'zero'\r\n",
    "\r\n",
    "for x in [-1, 0, 1]:\r\n",
    "    print(sign(x))"
   ],
   "outputs": [],
   "metadata": {}
  },
  {
   "cell_type": "code",
   "execution_count": null,
   "source": [
    "def welcome(name,loud=False):\r\n",
    "    if loud:\r\n",
    "        print('GREAT, {}'.format(name.upper()))\r\n",
    "    else:\r\n",
    "        print('Great, {}!'.format(name))\r\n",
    "welcome('monsoon')\r\n",
    "welcome('monsoon',loud=True)"
   ],
   "outputs": [],
   "metadata": {}
  },
  {
   "cell_type": "code",
   "execution_count": null,
   "source": [
    "class Greeter:\r\n",
    "    def __init__(self, name):\r\n",
    "        self.name = name  \r\n",
    "    def greet(self, loud=False):\r\n",
    "        if loud:\r\n",
    "          print('WELCOME TO INDIA, {}'.format(self.name.upper()))\r\n",
    "        else:\r\n",
    "          print('Welcome, {}!'.format(self.name))\r\n",
    "g = Greeter('Guest')  \r\n",
    "g.greet()           \r\n",
    "g.greet(loud=True)  "
   ],
   "outputs": [],
   "metadata": {}
  },
  {
   "cell_type": "code",
   "execution_count": null,
   "source": [
    "import numpy as np\r\n",
    "arr1 = np.array([1, 2, 3])  \r\n",
    "print(type(arr1), arr1.shape, arr1[0], arr1[1], arr1[2])\r\n",
    "arr1[0] = 5                 \r\n",
    "print(arr1)"
   ],
   "outputs": [],
   "metadata": {}
  },
  {
   "cell_type": "code",
   "execution_count": null,
   "source": [
    "import numpy as np\r\n",
    "mt = np.array([[1,2,3],[4,5,6]])  \r\n",
    "print(mt)\r\n",
    "print(mt.shape)\r\n",
    "print(mt[0, 0], mt[0, 1], mt[1, 0])"
   ],
   "outputs": [],
   "metadata": {}
  },
  {
   "cell_type": "code",
   "execution_count": null,
   "source": [
    "import numpy as np\r\n",
    "arr = np.zeros((3,3))  \r\n",
    "print(arr)"
   ],
   "outputs": [],
   "metadata": {}
  },
  {
   "cell_type": "code",
   "execution_count": null,
   "source": [
    "import numpy as np\r\n",
    "arr = np.ones((3,3))   \r\n",
    "print(arr)"
   ],
   "outputs": [],
   "metadata": {}
  },
  {
   "cell_type": "code",
   "execution_count": null,
   "source": [
    "import numpy as np\r\n",
    "arr = np.full((3,3), 7)\r\n",
    "print(arr)"
   ],
   "outputs": [],
   "metadata": {}
  },
  {
   "cell_type": "code",
   "execution_count": null,
   "source": [
    "import numpy as np\r\n",
    "mt = np.eye(3)       \r\n",
    "print(mt)"
   ],
   "outputs": [],
   "metadata": {}
  },
  {
   "cell_type": "code",
   "execution_count": null,
   "source": [
    "import numpy as np\r\n",
    "e = np.random.random((3,3))\r\n",
    "print(e)"
   ],
   "outputs": [],
   "metadata": {}
  },
  {
   "cell_type": "code",
   "execution_count": null,
   "source": [
    "import numpy as np\r\n",
    "array1 = np.array([[12,22,32,42], [53,63,73,83], [96,106,116,126]])\r\n",
    "result = array1[:2, 1:3]\r\n",
    "print(result)\r\n",
    "print(array1[0, 1])"
   ],
   "outputs": [],
   "metadata": {}
  },
  {
   "cell_type": "code",
   "execution_count": null,
   "source": [
    "import numpy as np\r\n",
    "a = np.array([[1,2,3,4], [5,6,7,8], [9,10,11,12]])\r\n",
    "print(a)\r\n",
    "row_r1 = a[1, :]    \r\n",
    "row_r2 = a[1:2, :]\r\n",
    "row_r3 = a[[1], :]  \r\n",
    "print(row_r1, row_r1.shape)\r\n",
    "print(row_r2, row_r2.shape)\r\n",
    "print(row_r3, row_r3.shape)\r\n",
    "col_r1 = a[:, 1]\r\n",
    "col_r2 = a[:, 1:2]\r\n",
    "print(col_r1, col_r1.shape)\r\n",
    "print()\r\n",
    "print(col_r2, col_r2.shape)\r\n",
    "\r\n"
   ],
   "outputs": [],
   "metadata": {}
  },
  {
   "cell_type": "code",
   "execution_count": null,
   "source": [
    "import numpy as np\r\n",
    "a = np.array([[1,2], [3, 4], [5, 6]])\r\n",
    "print(a[[0, 1, 2], [0, 1, 0]])\r\n",
    "print(np.array([a[0, 0], a[1, 1], a[2, 0]]))\r\n",
    "print(a[[0, 0], [1, 1]])\r\n",
    "print(np.array([a[0, 1], a[0, 1]]))"
   ],
   "outputs": [],
   "metadata": {}
  },
  {
   "cell_type": "code",
   "execution_count": null,
   "source": [
    "import numpy as np\r\n",
    "a = np.array([[1,2,3], [4,5,6], [7,8,9], [10, 11, 12]])\r\n",
    "print(a)\r\n",
    "b = np.array([0, 2, 0, 1])\r\n",
    "print(a[np.arange(4), b])  \r\n",
    "a[np.arange(4), b] += 10\r\n",
    "print(a)"
   ],
   "outputs": [],
   "metadata": {}
  },
  {
   "cell_type": "code",
   "execution_count": null,
   "source": [
    "import numpy as np\r\n",
    "a = np.array([[1,2], [3, 4], [5, 6]])\r\n",
    "bool_idx = (a > 2) \r\n",
    "print(bool_idx)\r\n",
    "print(a[bool_idx])\r\n",
    "print(a[a > 2])"
   ],
   "outputs": [],
   "metadata": {}
  },
  {
   "cell_type": "code",
   "execution_count": null,
   "source": [
    "import numpy as np\r\n",
    "x = np.array([1, 2])  \r\n",
    "y = np.array([1.0, 2.0])  \r\n",
    "z = np.array([1, 2], dtype=np.int64)  \r\n",
    "print(x.dtype, y.dtype, z.dtype)"
   ],
   "outputs": [],
   "metadata": {}
  },
  {
   "cell_type": "code",
   "execution_count": null,
   "source": [
    "import numpy as np\r\n",
    "x = np.array([[1,2],[3,4]], dtype=np.float64)\r\n",
    "y = np.array([[5,6],[7,8]], dtype=np.float64)\r\n",
    "print(x + y)\r\n",
    "print(np.add(x, y))\r\n",
    "print(x - y)\r\n",
    "print(np.subtract(x, y))\r\n",
    "print(x * y)\r\n",
    "print(np.multiply(x, y))\r\n",
    "print(x / y)\r\n",
    "print(np.divide(x, y))\r\n",
    "print(np.sqrt(x))\r\n"
   ],
   "outputs": [],
   "metadata": {}
  },
  {
   "cell_type": "code",
   "execution_count": null,
   "source": [
    "import numpy as np\r\n",
    "x = np.array([[1,2],[3,4]])\r\n",
    "y = np.array([[5,6],[7,8]])\r\n",
    "v = np.array([9,10])\r\n",
    "w = np.array([11, 12])\r\n",
    "print(v.dot(w))\r\n",
    "print(np.dot(v, w))\r\n",
    "print(v @ w)\r\n",
    "print(x.dot(v))\r\n",
    "print(np.dot(x, v))\r\n",
    "print(x @ v)\r\n",
    "print(x.dot(y))\r\n",
    "print(np.dot(x, y))\r\n",
    "print(x @ y)"
   ],
   "outputs": [],
   "metadata": {}
  },
  {
   "cell_type": "code",
   "execution_count": null,
   "source": [
    "import numpy as np\r\n",
    "x = np.array([[1,2],[3,4]])\r\n",
    "print(np.sum(x))  \r\n",
    "print(np.sum(x, axis=0))  \r\n",
    "print(np.sum(x, axis=1)) \r\n",
    "print(x)\r\n",
    "print(\"transpose\\n\", x.T)"
   ],
   "outputs": [],
   "metadata": {}
  },
  {
   "cell_type": "code",
   "execution_count": null,
   "source": [
    "import numpy as np\r\n",
    "v = np.array([[1,2,3]])\r\n",
    "print(v )\r\n",
    "print(\"transpose\\n\", v.T)"
   ],
   "outputs": [],
   "metadata": {}
  },
  {
   "cell_type": "code",
   "execution_count": null,
   "source": [
    "import numpy as np\r\n",
    "x = np.array([[1,2,3], [4,5,6], [7,8,9], [10, 11, 12]])\r\n",
    "v = np.array([1, 0, 1])\r\n",
    "y = np.empty_like(x)   \r\n",
    "for i in range(4):\r\n",
    "    y[i, :] = x[i, :] + v\r\n",
    "print(y)\r\n",
    "vv = np.tile(v, (4, 1))  \r\n",
    "print(vv)                         \r\n",
    "print(y)     "
   ],
   "outputs": [],
   "metadata": {}
  },
  {
   "cell_type": "code",
   "execution_count": null,
   "source": [
    "import numpy as np\r\n",
    "x = np.array([[1,2,3], [4,5,6], [7,8,9], [10, 11, 12]])\r\n",
    "v = np.array([1, 0, 1])\r\n",
    "y = x + v  \r\n",
    "print(y)                    "
   ],
   "outputs": [],
   "metadata": {}
  },
  {
   "cell_type": "code",
   "execution_count": null,
   "source": [
    "import numpy as np\r\n",
    "v = np.array([1,2,3])  \r\n",
    "w = np.array([4,5])    \r\n",
    "print(np.reshape(v, (3, 1)) * w)\r\n",
    "x = np.array([[1,2,3], [4,5,6]])\r\n",
    "print(x + v)\r\n",
    "print((x.T + w).T)\r\n",
    "print(x + np.reshape(w, (2, 1)))\r\n",
    "print(x * 2)"
   ],
   "outputs": [],
   "metadata": {}
  },
  {
   "cell_type": "code",
   "execution_count": null,
   "source": [
    "import matplotlib.pyplot as plt\r\n",
    "x = np.arange(0, 3 * np.pi, 0.1)\r\n",
    "y = np.sin(x)\r\n",
    "plt.plot(x, y)"
   ],
   "outputs": [],
   "metadata": {}
  },
  {
   "cell_type": "code",
   "execution_count": null,
   "source": [
    "import matplotlib.pyplot as plt\r\n",
    "y_sin = np.sin(x)\r\n",
    "y_cos = np.cos(x)\r\n",
    "plt.plot(x, y_sin)\r\n",
    "plt.plot(x, y_cos)\r\n",
    "plt.xlabel('x axis label')\r\n",
    "plt.ylabel('y axis label')\r\n",
    "plt.title('Sine and Cosine')\r\n",
    "plt.legend(['Sine', 'Cosine'])"
   ],
   "outputs": [],
   "metadata": {}
  },
  {
   "cell_type": "code",
   "execution_count": null,
   "source": [
    "import matplotlib.pyplot as plt\r\n",
    "x = np.arange(0, 3 * np.pi, 0.1)\r\n",
    "y_sin = np.sin(x)\r\n",
    "y_cos = np.cos(x)\r\n",
    "plt.subplot(2, 1, 1)\r\n",
    "plt.plot(x, y_sin)\r\n",
    "plt.title('Sine')\r\n",
    "plt.subplot(2, 1, 2)\r\n",
    "plt.plot(x, y_cos)\r\n",
    "plt.title('Cosine')\r\n",
    "plt.show()"
   ],
   "outputs": [],
   "metadata": {}
  }
 ],
 "metadata": {
  "orig_nbformat": 4,
  "language_info": {
   "name": "python",
   "version": "3.9.2",
   "mimetype": "text/x-python",
   "codemirror_mode": {
    "name": "ipython",
    "version": 3
   },
   "pygments_lexer": "ipython3",
   "nbconvert_exporter": "python",
   "file_extension": ".py"
  },
  "kernelspec": {
   "name": "python3",
   "display_name": "Python 3.9.2 64-bit"
  },
  "interpreter": {
   "hash": "e9292ea86ddae4deca668d01fcf516d5d89bf271153c9a9a4d4b10b3d781426d"
  }
 },
 "nbformat": 4,
 "nbformat_minor": 2
}