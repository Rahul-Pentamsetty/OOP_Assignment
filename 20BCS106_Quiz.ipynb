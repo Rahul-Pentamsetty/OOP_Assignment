{
  "nbformat": 4,
  "nbformat_minor": 0,
  "metadata": {
    "colab": {
      "name": "Untitled0.ipynb",
      "provenance": [],
      "authorship_tag": "ABX9TyO0iBF+TlJtSh3mtOAGohrL"
    },
    "kernelspec": {
      "name": "python3",
      "display_name": "Python 3"
    },
    "language_info": {
      "name": "python"
    }
  },
  "cells": [
    {
      "cell_type": "code",
      "metadata": {
        "id": "ZkSiq5c9JSIp"
      },
      "source": [
        ""
      ],
      "execution_count": null,
      "outputs": []
    },
    {
      "cell_type": "markdown",
      "metadata": {
        "id": "FooBLV3LJW0d"
      },
      "source": [
        "# QUIZ\n",
        "Write a function that returns the maximum of two numbers-"
      ]
    },
    {
      "cell_type": "code",
      "metadata": {
        "colab": {
          "base_uri": "https://localhost:8080/",
          "height": 0
        },
        "id": "UsPiqOZgJab3",
        "outputId": "8ab79c64-90e8-46f1-fded-5a68dd56a3e9"
      },
      "source": [
        "def maxoftwonumbers(a,b):\n",
        "  if a>b:\n",
        "    return a\n",
        "  return b\n",
        "\n",
        "a=int(input(\"Enter the first number- \"))\n",
        "b=int(input(\"Enter the second number- \"))\n",
        "print(f\"The maximum of {a} and {b} is {maxoftwonumbers(a,b)}\")"
      ],
      "execution_count": 6,
      "outputs": [
        {
          "output_type": "stream",
          "text": [
            "Enter the first number- 5\n",
            "Enter the second number- 3\n",
            "The maximum of 5 and 3 is 5\n"
          ],
          "name": "stdout"
        }
      ]
    },
    {
      "cell_type": "markdown",
      "metadata": {
        "id": "klp6WZ4VPmWf"
      },
      "source": [
        "Write a function called numberGame that takes a number and \n",
        "1. If the number is divisible by 3, it should return “number”.\n",
        "2. If it is divisible by 5, it should return “Game”.\n",
        "3. If it is divisible by both 3 and 5, it should return “numberGame”.\n",
        "4. Otherwise, it should return the same number."
      ]
    },
    {
      "cell_type": "code",
      "metadata": {
        "colab": {
          "base_uri": "https://localhost:8080/",
          "height": 0
        },
        "id": "db6x7UASKQY6",
        "outputId": "0c10d816-99eb-4f87-fd55-f8ef318dd5a2"
      },
      "source": [
        "def numberGame(a):\n",
        "  if a%3==0 and a%5==0:\n",
        "    return \"numberGame\"\n",
        "  elif a%3==0:\n",
        "    return \"number\"\n",
        "  elif a%5==0:\n",
        "    return \"Game\"\n",
        "  else:\n",
        "    return a\n",
        "\n",
        "number=int(input(\"Enter a number- \"))\n",
        "print(f\"{numberGame(number)}\")\n"
      ],
      "execution_count": 13,
      "outputs": [
        {
          "output_type": "stream",
          "text": [
            "Enter a number- 11\n",
            "11\n"
          ],
          "name": "stdout"
        }
      ]
    },
    {
      "cell_type": "markdown",
      "metadata": {
        "id": "mFrlFn7PRyXp"
      },
      "source": [
        "Write a function for checking the speed of drivers. This function should have one parameter: speed.\n",
        "* If speed is less than 70, it should print “Ok”.\n",
        "* Otherwise, for every 5km above the speed limit (70), it should give the driver one demerit point and print the total number of demerit points. For example, if the speed is 80, it should print: “Points: 2”.\n",
        "* If the driver gets more than 12 points, the function should print: “License suspended”"
      ]
    },
    {
      "cell_type": "code",
      "metadata": {
        "colab": {
          "base_uri": "https://localhost:8080/",
          "height": 0
        },
        "id": "Q_usi2eGR6xy",
        "outputId": "50919f90-0e93-40cc-c9ed-b161d3fa5e4b"
      },
      "source": [
        "def driverSpeed(speed):\n",
        "  if speed<70:\n",
        "    print(\"Ok\")\n",
        "  elif (speed-70)//5>12:\n",
        "    print(\"License suspended\")\n",
        "  else:\n",
        "    print(f\"Points: {(speed-70)//5}\")\n",
        "     \n",
        "\n",
        "speed=int(input(\"Enter the speed- \"))\n",
        "driverSpeed(speed)\n"
      ],
      "execution_count": 17,
      "outputs": [
        {
          "output_type": "stream",
          "text": [
            "Enter the speed- 96\n",
            "Points: 5\n"
          ],
          "name": "stdout"
        }
      ]
    },
    {
      "cell_type": "markdown",
      "metadata": {
        "id": "XPbNYPnGTk_v"
      },
      "source": [
        "Write a function called showNumbers that takes a parameter called limit. It should print all the numbers between 0 and limit with a label to identify the even and odd numbers. For example, if the limit is 3, it should print:\n",
        "* 0 EVEN\n",
        "* 1 ODD\n",
        "* 2 EVEN\n",
        "* 3 ODD"
      ]
    },
    {
      "cell_type": "code",
      "metadata": {
        "colab": {
          "base_uri": "https://localhost:8080/",
          "height": 0
        },
        "id": "TB3bmNfpT2VL",
        "outputId": "02b7da25-b025-4677-f943-be2e2a216fa9"
      },
      "source": [
        "def showNumber(limit):\n",
        "  for i in range(limit+1):\n",
        "    if i%2==0:\n",
        "      print(f\"{i} EVEN\")\n",
        "    elif i%2!=0:\n",
        "      print(f\"{i} ODD\")\n",
        "\n",
        "limit=int(input(\"Enter limit- \"))\n",
        "showNumber(limit)     \n"
      ],
      "execution_count": 19,
      "outputs": [
        {
          "output_type": "stream",
          "text": [
            "Enter limit- 5\n",
            "0 EVEN\n",
            "1 ODD\n",
            "2 EVEN\n",
            "3 ODD\n",
            "4 EVEN\n",
            "5 ODD\n"
          ],
          "name": "stdout"
        }
      ]
    },
    {
      "cell_type": "markdown",
      "metadata": {
        "id": "uh6xsdXNUoYQ"
      },
      "source": [
        "Write a function called showSigns(rows). If rows is 5, it should print the following:\n",
        "\n",
        "* &\n",
        "* &&\n",
        "* &&&\n",
        "* &&&&\n",
        "* &&&&&"
      ]
    },
    {
      "cell_type": "code",
      "metadata": {
        "colab": {
          "base_uri": "https://localhost:8080/",
          "height": 0
        },
        "id": "87XDwiMjUtO5",
        "outputId": "47f97168-3553-4a88-a657-1b045761a85f"
      },
      "source": [
        "def showSigns(rows):\n",
        "  for i in range(1,rows+1):\n",
        "    print(i*\"&\")\n",
        "\n",
        "rows=int(input(\"Enter number of rows- \"))\n",
        "showSigns(rows)"
      ],
      "execution_count": 22,
      "outputs": [
        {
          "output_type": "stream",
          "text": [
            "Enter number of rows- 5\n",
            "&\n",
            "&&\n",
            "&&&\n",
            "&&&&\n",
            "&&&&&\n"
          ],
          "name": "stdout"
        }
      ]
    },
    {
      "cell_type": "markdown",
      "metadata": {
        "id": "VzHP_kmkVjQT"
      },
      "source": [
        "Write a function that prints all the prime numbers between 0 and max where max is a parameter."
      ]
    },
    {
      "cell_type": "code",
      "metadata": {
        "colab": {
          "base_uri": "https://localhost:8080/"
        },
        "id": "Xf9JjxrAVkSa",
        "outputId": "9d6aea93-8bdd-4351-fa30-d08483643a77"
      },
      "source": [
        "def isprime(a):\n",
        "  for i in range(2,a):\n",
        "    if a%i==0:\n",
        "      return False\n",
        "  return True\n",
        "    \n",
        "def primeNumbers(max):\n",
        "  for i in range(2,max):\n",
        "    if isprime(i):\n",
        "      print(i)\n",
        "\n",
        "max=int(input(\"Enter max number- \"))\n",
        "primeNumbers(max)"
      ],
      "execution_count": 33,
      "outputs": [
        {
          "output_type": "stream",
          "text": [
            "Enter max number- 20\n",
            "2\n",
            "3\n",
            "5\n",
            "7\n",
            "11\n",
            "13\n",
            "17\n",
            "19\n"
          ],
          "name": "stdout"
        }
      ]
    }
  ]
}