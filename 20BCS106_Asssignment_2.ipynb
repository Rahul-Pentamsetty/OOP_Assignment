{
  "nbformat": 4,
  "nbformat_minor": 0,
  "metadata": {
    "colab": {
      "name": "20BCS106_Asssignment_2.ipynb",
      "provenance": [],
      "collapsed_sections": [],
      "authorship_tag": "ABX9TyPdVMU6cXT0KTYalv10h3PG"
    },
    "kernelspec": {
      "name": "python3",
      "display_name": "Python 3"
    },
    "language_info": {
      "name": "python"
    }
  },
  "cells": [
    {
      "cell_type": "markdown",
      "metadata": {
        "id": "fm43Z4YJmvW5"
      },
      "source": [
        "1)"
      ]
    },
    {
      "cell_type": "code",
      "metadata": {
        "colab": {
          "base_uri": "https://localhost:8080/"
        },
        "id": "qjiXqsO4mya6",
        "outputId": "921cc5d6-7957-4f04-aae7-acb26089a0c4"
      },
      "source": [
        "class circle:\n",
        "    def __init__(self,r):\n",
        "        self.r=r\n",
        "    def area(self):\n",
        "        print(f\"Area is {self.r*self.r}\")\n",
        "    def peri(self):\n",
        "        print(f\"Perimeter is {round(2*self.r*3.14,2)}\")\n",
        "\n",
        "r=int(input(\"Enter the radius- \"))\n",
        "c1=circle(r)\n",
        "c1.area()\n",
        "c1.peri()\n",
        "\n",
        "    \n",
        "\n"
      ],
      "execution_count": null,
      "outputs": [
        {
          "output_type": "stream",
          "name": "stdout",
          "text": [
            "Enter the radius- 5\n",
            "Area is 25\n",
            "Perimeter is 31.4\n"
          ]
        }
      ]
    },
    {
      "cell_type": "markdown",
      "metadata": {
        "id": "rJmbP4NKoLo1"
      },
      "source": [
        "2)"
      ]
    },
    {
      "cell_type": "code",
      "metadata": {
        "colab": {
          "base_uri": "https://localhost:8080/"
        },
        "id": "ebblsaZ8oMY3",
        "outputId": "82c3c80a-152b-4cb0-98bd-5a519674b3d8"
      },
      "source": [
        "class faculty:\n",
        "\n",
        "    def __init__(self, name, id, branch, salary):\n",
        "        self.name=name\n",
        "        self.id=id\n",
        "        self.branch=branch\n",
        "        self.salary=salary\n",
        "    def display(self):\n",
        "        print(f\"Name:{self.name}\\nID:{self.id}\\nBranch:{self.branch}\\nSalary:{self.salary}\")\n",
        "\n",
        "fac=[]\n",
        "for i in range(0,5):\n",
        "    name = str(input(\"Enter name: \"))\n",
        "    id = int(input(\"Enter ID: \"))\n",
        "    branch = str(input(\"Enter branch: \"))\n",
        "    salary = int(input(\"Enter salary: \"))\n",
        "    emp = faculty(name, id, branch, salary)\n",
        "    fac.append(emp)\n",
        "\n",
        "for i in fac:\n",
        "    i.display()\n",
        "    "
      ],
      "execution_count": null,
      "outputs": [
        {
          "output_type": "stream",
          "name": "stdout",
          "text": [
            "Enter name: Ramesh\n",
            "Enter ID: 1\n",
            "Enter branch: cse\n",
            "Enter salary: 100000\n",
            "Enter name: Anjali\n",
            "Enter ID: 2\n",
            "Enter branch: dsai\n",
            "Enter salary: 95000\n",
            "Enter name: Sam\n",
            "Enter ID: 3\n",
            "Enter branch: cse\n",
            "Enter salary: 110000\n",
            "Enter name: Franklin\n",
            "Enter ID: 4\n",
            "Enter branch: ece\n",
            "Enter salary: 80000\n",
            "Enter name: Eshwar\n",
            "Enter ID: 5\n",
            "Enter branch: dsai\n",
            "Enter salary: 90000\n",
            "Name:Ramesh\n",
            " ID:1\n",
            " Branch:cse\n",
            " Salary:100000\n",
            "Name:Anjali\n",
            " ID:2\n",
            " Branch:dsai\n",
            " Salary:95000\n",
            "Name:Sam\n",
            " ID:3\n",
            " Branch:cse\n",
            " Salary:110000\n",
            "Name:Franklin\n",
            " ID:4\n",
            " Branch:ece\n",
            " Salary:80000\n",
            "Name:Eshwar\n",
            " ID:5\n",
            " Branch:dsai\n",
            " Salary:90000\n"
          ]
        }
      ]
    },
    {
      "cell_type": "markdown",
      "metadata": {
        "id": "dMsV24k-sC-m"
      },
      "source": [
        "3)"
      ]
    },
    {
      "cell_type": "code",
      "metadata": {
        "colab": {
          "base_uri": "https://localhost:8080/"
        },
        "id": "MovXWdoMsEGF",
        "outputId": "d252b62e-a4e9-4e44-8028-eca2274d97ef"
      },
      "source": [
        "class account:\n",
        "    def __init__(self, accno, holdername, amt):\n",
        "        self.accno = accno\n",
        "        self.holdername = holdername\n",
        "        self.amt = amt\n",
        "    \n",
        "    def deposit(self, amt):\n",
        "        self.amt = self.amt + amt\n",
        "        print(f\"{amt} deposited\")\n",
        "    \n",
        "    def withdraw(self, amt):\n",
        "        self.amt = self.amt - amt\n",
        "        print(f\"{amt} withdrawn\")\n",
        "\n",
        "    def checkbalance(self):\n",
        "        print(f\"Account balance is {self.amt}\")\n",
        "    \n",
        "    def displaydetails(self):\n",
        "        print(f\"Account no: {self.accno}\\nHolder name: {self.holdername}\\nAmount in bank: {self.amt}\")\n",
        "\n",
        "holder1 = account(1, \"Ramesh\", 100000)\n",
        "holder1.deposit(10000)\n",
        "holder1.withdraw(20000)\n",
        "holder1.checkbalance()\n",
        "holder1.displaydetails()"
      ],
      "execution_count": null,
      "outputs": [
        {
          "output_type": "stream",
          "name": "stdout",
          "text": [
            "10000 deposited\n",
            "20000 withdrawn\n",
            "Account balance is 90000\n",
            "Account no: 1\n",
            "Holder name: Ramesh\n",
            "Amount in bank: 90000\n"
          ]
        }
      ]
    },
    {
      "cell_type": "markdown",
      "metadata": {
        "id": "nI8pTsBcuXMh"
      },
      "source": [
        "4)"
      ]
    },
    {
      "cell_type": "code",
      "metadata": {
        "id": "qfiNMDS9uYaT",
        "colab": {
          "base_uri": "https://localhost:8080/"
        },
        "outputId": "873ae02c-974f-4ff5-ffe5-796f431d5dd1"
      },
      "source": [
        "class students:\n",
        "\n",
        "    def __init__(self, name, USN, marks) :\n",
        "        self.name=name\n",
        "        self.USN=USN\n",
        "        self.marks=marks\n",
        "\n",
        "    def display(self):\n",
        "        print(f\"Name:{self.name}\\nUSN:{self.USN}\\nmarks:{self.marks}\\n\")\n",
        "\n",
        "stud = []\n",
        "for i in range(0,3):\n",
        "    name = str(input(\"Enter name: \"))\n",
        "    USN = int(input(\"Enter USN: \"))\n",
        "    marks = str(input(\"Enter marks: \"))\n",
        "    \n",
        "    student = students(name, USN, marks)\n",
        "    stud.append(student)\n",
        "\n",
        "for i in stud:\n",
        "    i.display()"
      ],
      "execution_count": 10,
      "outputs": [
        {
          "output_type": "stream",
          "name": "stdout",
          "text": [
            "Enter name: a\n",
            "Enter USN: 1\n",
            "Enter marks: 98\n",
            "Enter name: b\n",
            "Enter USN: 2\n",
            "Enter marks: 97\n",
            "Enter name: c\n",
            "Enter USN: 3\n",
            "Enter marks: 85\n",
            "Name:a\n",
            "USN:1\n",
            "marks:98\n",
            "\n",
            "Name:b\n",
            "USN:2\n",
            "marks:97\n",
            "\n",
            "Name:c\n",
            "USN:3\n",
            "marks:85\n",
            "\n"
          ]
        }
      ]
    },
    {
      "cell_type": "markdown",
      "metadata": {
        "id": "p_IGOZwDvllJ"
      },
      "source": [
        "5)"
      ]
    },
    {
      "cell_type": "code",
      "metadata": {
        "colab": {
          "base_uri": "https://localhost:8080/"
        },
        "id": "XxtEtC_uvmnG",
        "outputId": "2b2d698f-c4fd-495e-d003-18e0c21430d4"
      },
      "source": [
        "class patient:\n",
        "    totalpatients = 0\n",
        "    severepatients = 0\n",
        "    nonseverepatients = 0\n",
        "    def __init__(self, name, date, symptoms, oxylvl, dischargedate):\n",
        "        self.name = name\n",
        "        self.date = date\n",
        "        self.symptoms = symptoms\n",
        "        self.oxylvl = oxylvl\n",
        "        self.dischargedate = dischargedate\n",
        "\n",
        "    def severity(self):\n",
        "        if self.oxylvl<90:\n",
        "            patient.severepatients += 1\n",
        "            patient.totalpatients += 1\n",
        "        else:\n",
        "            patient.nonseverepatients +=1\n",
        "            patient.totalpatients += 1\n",
        "\n",
        "    def oxygensupport(self):\n",
        "        print(f\"{patient.severepatients} need oxygen support\")\n",
        "\n",
        "    def generalward(self):\n",
        "        print(f\"{patient.nonseverepatients} need general ward checkup\")\n",
        "    \n",
        "    def totalpat(self):\n",
        "        print(f\"{patient.totalpatients} patients are currently admitted\")\n",
        "\n",
        "patient1 = patient(\"Ramesh\", \"12/9/21\", [\"cough\",\"cold\"], 95, \"17/9/12\")\n",
        "patient1.severity()\n",
        "patient1.oxygensupport()\n",
        "patient1.generalward()\n",
        "patient1.totalpat()\n",
        "\n",
        "patient2 = patient(\"Deepak\", \"9/9/21\", [\"sore throat\",\"fever\"], 85, \"19/9/12\")\n",
        "patient2.severity()\n",
        "patient2.oxygensupport()\n",
        "patient2.generalward()\n",
        "patient2.totalpat()"
      ],
      "execution_count": null,
      "outputs": [
        {
          "output_type": "stream",
          "name": "stdout",
          "text": [
            "0 need oxygen support\n",
            "1 need general ward checkup\n",
            "1 patients are currently admitted\n",
            "1 need oxygen support\n",
            "1 need general ward checkup\n",
            "2 patients are currently admitted\n"
          ]
        }
      ]
    },
    {
      "cell_type": "markdown",
      "metadata": {
        "id": "7C1CLZ-ezIZ8"
      },
      "source": [
        "6)"
      ]
    },
    {
      "cell_type": "code",
      "metadata": {
        "colab": {
          "base_uri": "https://localhost:8080/"
        },
        "id": "I2KHmEeWzJfD",
        "outputId": "3b20b405-650f-40f0-acd0-a07dc00193ad"
      },
      "source": [
        "class time:\n",
        "\n",
        "    def __init__(self, hours = 0, minutes = 0, seconds = 0):\n",
        "        self.hours = hours\n",
        "        self.minutes = minutes\n",
        "        self.seconds = seconds\n",
        "\n",
        "    def display(self):\n",
        "        print(f\"{self.hours}:{self.minutes}:{self.seconds}\")\n",
        "\n",
        "time1 = time(5, 13, 55)\n",
        "time1.display()\n",
        "time2 = time()\n",
        "time2.display()"
      ],
      "execution_count": null,
      "outputs": [
        {
          "output_type": "stream",
          "name": "stdout",
          "text": [
            "5:13:55\n",
            "0:0:0\n"
          ]
        }
      ]
    },
    {
      "cell_type": "markdown",
      "metadata": {
        "id": "KOtZH-nI2A7T"
      },
      "source": [
        "7)"
      ]
    },
    {
      "cell_type": "code",
      "metadata": {
        "id": "nddBZHrK2CDQ",
        "colab": {
          "base_uri": "https://localhost:8080/"
        },
        "outputId": "61d51a0b-8981-45b4-8322-631df9b5cf20"
      },
      "source": [
        "class students:\n",
        "\n",
        "    def __init__(self, name, age, rollno) :\n",
        "        self.name=name\n",
        "        self.rollno=rollno\n",
        "        self.age=age\n",
        "\n",
        "    def display(self):\n",
        "        print(f\"Name:{self.name}\\nrollno:{self.rollno}\\nage:{self.age}\\n\")\n",
        "    \n",
        "    def agecompare(self):\n",
        "        if std1.age == std2.age:\n",
        "            print(\"They are equal\")\n",
        "        else:\n",
        "            print(\"They are not equal\")\n",
        "        \n",
        "\n",
        "std1 = students(\"Rahul\", 21, 33)\n",
        "std2 = students(\"Rohit\", 22, 74)\n",
        "std1.agecompare()"
      ],
      "execution_count": 11,
      "outputs": [
        {
          "output_type": "stream",
          "name": "stdout",
          "text": [
            "They are not equal\n"
          ]
        }
      ]
    },
    {
      "cell_type": "markdown",
      "metadata": {
        "id": "vQ1AZyIp4z_r"
      },
      "source": [
        "8)"
      ]
    },
    {
      "cell_type": "code",
      "metadata": {
        "id": "Ou0Qd5Rk40on",
        "colab": {
          "base_uri": "https://localhost:8080/"
        },
        "outputId": "12427851-c9c0-4026-b755-f574c98024af"
      },
      "source": [
        "class student:\n",
        "    sem = \"Second\"\n",
        "    institute = \"IIIT Dharwad\"\n",
        "\n",
        "    def __init__(self, name, usn):\n",
        "        self.name = name\n",
        "        self.usn = usn\n",
        "    \n",
        "    def displayinstance(self):\n",
        "        print(f\"Name: {self.name}\\nUSN:{self.usn}\")\n",
        "\n",
        "    @classmethod\n",
        "    def displayclass(cls):\n",
        "        print(f\"Sem: {cls.sem}\\nInstitute: {cls.institute}\")\n",
        "\n",
        "    @staticmethod\n",
        "    def displayinfo():\n",
        "        print(f\"sem and institute are the class attributes which are accessed by the class method displayclass\\nname and usn are instance attributes which are accesed by the instance method displayinstance\")        \n",
        "\n",
        "s1 = student(\"Sam\", 21)\n",
        "s1.displayinstance()\n",
        "s1.displayclass()\n",
        "s1.displayinfo()"
      ],
      "execution_count": null,
      "outputs": [
        {
          "output_type": "stream",
          "name": "stdout",
          "text": [
            "Name: Sam\n",
            "USN:21\n",
            "Sem: Second\n",
            "Institute: IIIT Dharwad\n",
            "sem and institute are the class attributes which are accessed by the class method displayclass\n",
            "name and usn are instance attributes which are accesed by the instance method displayinstance\n"
          ]
        }
      ]
    },
    {
      "cell_type": "markdown",
      "metadata": {
        "id": "y4ZdTD_rXAzo"
      },
      "source": [
        "9)"
      ]
    },
    {
      "cell_type": "code",
      "metadata": {
        "colab": {
          "base_uri": "https://localhost:8080/"
        },
        "id": "1nevDV6iXBtT",
        "outputId": "b16bd646-2cda-4ec5-9719-fd4de4c8d201"
      },
      "source": [
        "class student:\n",
        "\n",
        "    def __init__(self, name, rollno, sem, cpu, ram, harddisk):\n",
        "        self.name = name\n",
        "        self.rollno = rollno\n",
        "        self.sem = sem\n",
        "        self.s1 = self.laptop(cpu, ram, harddisk)\n",
        "\n",
        "    def display(self):\n",
        "        print(f\"Name is: {self.name}\\nRoll no is: {self.rollno}\\nSem is: {self.sem}\")\n",
        "        self.s1.display()\n",
        "    class laptop:\n",
        "\n",
        "        def __init__(self, cpu, ram, harddisk):\n",
        "            self.cpu = cpu \n",
        "            self.ram = ram\n",
        "            self.harddisk = harddisk\n",
        "    \n",
        "        def display(self):\n",
        "            print(f\"CPU is: {self.cpu}\\nRam is: {self.ram}gb\\nHard disk is: {self.harddisk}gb\")\n",
        "\n",
        "\n",
        "s1 = student(\"Sam\", 25, 3, \"Intel\", 8, 512)\n",
        "s1.display()\n",
        "\n"
      ],
      "execution_count": 12,
      "outputs": [
        {
          "output_type": "stream",
          "name": "stdout",
          "text": [
            "Name is: Sam\n",
            "Roll no is: 25\n",
            "Sem is: 3\n",
            "CPU is: Intel\n",
            "Ram is: 8gb\n",
            "Hard disk is: 512gb\n"
          ]
        }
      ]
    }
  ]
}