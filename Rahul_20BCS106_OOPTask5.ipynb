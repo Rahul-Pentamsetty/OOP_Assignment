{
  "nbformat": 4,
  "nbformat_minor": 0,
  "metadata": {
    "colab": {
      "name": "Rahul_20BCS106_OOPTask5",
      "provenance": [],
      "authorship_tag": "ABX9TyO4fwOLgFTDIhBVZhd/+0ri",
      "include_colab_link": true
    },
    "kernelspec": {
      "name": "python3",
      "display_name": "Python 3"
    },
    "language_info": {
      "name": "python"
    }
  },
  "cells": [
    {
      "cell_type": "markdown",
      "metadata": {
        "id": "view-in-github",
        "colab_type": "text"
      },
      "source": [
        "<a href=\"https://colab.research.google.com/github/Rahul-Pentamsetty/OOP_Assignment/blob/main/Rahul_20BCS106_OOPTask5.ipynb\" target=\"_parent\"><img src=\"https://colab.research.google.com/assets/colab-badge.svg\" alt=\"Open In Colab\"/></a>"
      ]
    },
    {
      "cell_type": "markdown",
      "metadata": {
        "id": "NMURnvbsmjUP"
      },
      "source": [
        "OOP TASK 5"
      ]
    },
    {
      "cell_type": "markdown",
      "metadata": {
        "id": "CQNCR8UdmmDy"
      },
      "source": [
        "1)"
      ]
    },
    {
      "cell_type": "code",
      "metadata": {
        "colab": {
          "base_uri": "https://localhost:8080/"
        },
        "id": "oCHp7pJRmm8H",
        "outputId": "747c0df6-73ae-4c4d-d5f2-4227d73f8678"
      },
      "source": [
        "class shape():\n",
        "    def area(self):\n",
        "        pass\n",
        "\n",
        "class circle(shape):\n",
        "    def __init__(self, radius):\n",
        "        self.radius = radius\n",
        "\n",
        "    def area(self):\n",
        "        print(f\"Area of the circle is: {self.radius*self.radius*3.14}\")\n",
        "    \n",
        "class square(shape):\n",
        "    def __init__(self, side):\n",
        "        self.side = side\n",
        "    \n",
        "    def area(self):\n",
        "        print(f\"Area of the square is: {self.side*self.side}\")\n",
        "\n",
        "class rectangle(shape):\n",
        "    def __init__(self, length, breadth):\n",
        "        self.length = length\n",
        "        self.breadth = breadth\n",
        "    \n",
        "    def area(self):\n",
        "        print(f\"Area of the rectangle is: {self.length*self.breadth}\")\n",
        "\n",
        "a = circle(7)\n",
        "b = square(4)\n",
        "c= rectangle(3, 4)\n",
        "a.area()\n",
        "b.area()\n",
        "c.area()"
      ],
      "execution_count": 2,
      "outputs": [
        {
          "output_type": "stream",
          "name": "stdout",
          "text": [
            "Area of the circle is: 153.86\n",
            "Area of the square is: 16\n",
            "Area of the rectangle is: 12\n"
          ]
        }
      ]
    },
    {
      "cell_type": "markdown",
      "metadata": {
        "id": "EmsP64QV07vD"
      },
      "source": [
        "2)"
      ]
    },
    {
      "cell_type": "code",
      "metadata": {
        "colab": {
          "base_uri": "https://localhost:8080/"
        },
        "id": "sUmD1_Lf08XC",
        "outputId": "ac8f28e5-2e8c-446b-8a5f-9b84295595cd"
      },
      "source": [
        "class travel():\n",
        "    def __init__(self, num, dist, mode):\n",
        "        self.__num = num\n",
        "        self.dist = dist\n",
        "        self.mode = mode\n",
        "    \n",
        "    def num(self):\n",
        "        return self.__num\n",
        "    \n",
        "class train(travel):\n",
        "    def __init__(self, num, dist, mode):\n",
        "        super().__init__(num, dist, mode)\n",
        "\n",
        "    def cost(self):\n",
        "        rate = self.num()\n",
        "        print(f\"Cost of travelling through train is- {rate*60}\")\n",
        "\n",
        "class bus(travel):\n",
        "    def __init__(self, num, dist, mode):\n",
        "        super().__init__( num, dist, mode)\n",
        "\n",
        "    def cost(self):\n",
        "        rate = self.num()\n",
        "        print(f\"Cost of travelling through busis- {rate*100}\")\n",
        "\n",
        "a = train(100, 500, \"train\")\n",
        "b = bus(30, 300, \"bus\")\n",
        "a.cost()\n",
        "b.cost()\n"
      ],
      "execution_count": 17,
      "outputs": [
        {
          "output_type": "stream",
          "name": "stdout",
          "text": [
            "Cost of travelling through train is- 6000\n",
            "Cost of travelling through busis- 3000\n"
          ]
        }
      ]
    },
    {
      "cell_type": "markdown",
      "metadata": {
        "id": "IBtMnB8b4GM0"
      },
      "source": [
        "3)\n"
      ]
    },
    {
      "cell_type": "code",
      "metadata": {
        "colab": {
          "base_uri": "https://localhost:8080/"
        },
        "id": "CPGKoOnX4G6L",
        "outputId": "9605b1a7-07f0-4442-84c0-81c96fda1972"
      },
      "source": [
        "class car():\n",
        "    def __init__(self, modnum):\n",
        "        self.modnum = modnum\n",
        "    \n",
        "    @classmethod\n",
        "    def swap(cls, c2):\n",
        "        c1.modnum,c2.modnum = c2.modnum, c1.modnum\n",
        "\n",
        "c1 = car(5)\n",
        "c2 = car(8)\n",
        "c1.swap(c2)\n",
        "print(c1.modnum)\n",
        "print(c2.modnum)\n",
        "\n"
      ],
      "execution_count": 15,
      "outputs": [
        {
          "output_type": "stream",
          "name": "stdout",
          "text": [
            "8\n",
            "5\n"
          ]
        }
      ]
    }
  ]
}