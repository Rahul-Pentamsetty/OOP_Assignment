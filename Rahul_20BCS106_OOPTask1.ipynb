{
  "nbformat": 4,
  "nbformat_minor": 0,
  "metadata": {
    "colab": {
      "name": "Rahul_20BCS106_OOPTask1.ipynb",
      "provenance": [],
      "collapsed_sections": [],
      "authorship_tag": "ABX9TyOcNIHYEb9R45njbps/pTGz"
    },
    "kernelspec": {
      "name": "python3",
      "display_name": "Python 3"
    },
    "language_info": {
      "name": "python"
    }
  },
  "cells": [
    {
      "cell_type": "markdown",
      "metadata": {
        "id": "oX2tccTnKkoj"
      },
      "source": [
        "OOP Assignment 1"
      ]
    },
    {
      "cell_type": "markdown",
      "metadata": {
        "id": "jOEHIwpKKzhH"
      },
      "source": [
        "Problem 1"
      ]
    },
    {
      "cell_type": "code",
      "metadata": {
        "colab": {
          "base_uri": "https://localhost:8080/"
        },
        "id": "9vboifn9K06n",
        "outputId": "bcb2fbe5-8c24-45b0-d597-06500eb3d8b3"
      },
      "source": [
        "def leap(year):\n",
        "    if year%400==0:\n",
        "        return True\n",
        "    elif year%4==0 and year%100!=0:\n",
        "        return True\n",
        "    else:\n",
        "        return False\n",
        "\n",
        "year=int(input(\"Enter the year- \"))\n",
        "if leap(year):\n",
        "    print(f\"{year} is a leap year\")\n",
        "else:\n",
        "    print(f\"{year} is not a leap year\")\n"
      ],
      "execution_count": null,
      "outputs": [
        {
          "output_type": "stream",
          "name": "stdout",
          "text": [
            "Enter the year- 2004\n",
            "2004 is a leap year\n"
          ]
        }
      ]
    },
    {
      "cell_type": "markdown",
      "metadata": {
        "id": "I3Ez86EAOALJ"
      },
      "source": [
        "Problem 2"
      ]
    },
    {
      "cell_type": "code",
      "metadata": {
        "colab": {
          "base_uri": "https://localhost:8080/"
        },
        "id": "1R7y9WFTOl3x",
        "outputId": "7a373d64-bc4b-4a76-efb9-061b63d227d7"
      },
      "source": [
        "def weird(n):\n",
        "    return (n%2==0 and n>=2 and n<=5)  or (n%2==0 and n>20)\n",
        "\n",
        "n=int(input(\"Enter a number- \"))\n",
        "if weird(n):\n",
        "    print(f\"{n} is Not Weird\")\n",
        "else:\n",
        "    print(f\"{n} is Weird\")"
      ],
      "execution_count": null,
      "outputs": [
        {
          "output_type": "stream",
          "name": "stdout",
          "text": [
            "Enter a number- 7\n",
            "7 is Weird\n"
          ]
        }
      ]
    },
    {
      "cell_type": "markdown",
      "metadata": {
        "id": "FHk446xCRTlb"
      },
      "source": [
        "Problem 3"
      ]
    },
    {
      "cell_type": "code",
      "metadata": {
        "colab": {
          "base_uri": "https://localhost:8080/"
        },
        "id": "tCq6PPBQRVKW",
        "outputId": "96e2bcd4-7354-4fee-a3de-3fc6b77746d6"
      },
      "source": [
        "def fashion(arrivals,person):\n",
        "    mid=len(arrivals)//2\n",
        "    return (person in arrivals[mid:-1])\n",
        "person=str(input(\"Enter person's name- \"))\n",
        "Arrivals=[\"Hardik\",\"Rahul\",\"Virat\",\"Rishabh\",\"Mahi\",\"Rohit\",\"Rahane\"]\n",
        "if fashion(Arrivals,person):\n",
        "    print(f\"{person} is fashionably late\")\n",
        "else:\n",
        "    print(f\"{person} is not fashionably late\")\n"
      ],
      "execution_count": null,
      "outputs": [
        {
          "output_type": "stream",
          "name": "stdout",
          "text": [
            "Enter person's name- Rohit\n",
            "Rohit is fashionably late\n"
          ]
        }
      ]
    },
    {
      "cell_type": "markdown",
      "metadata": {
        "id": "L7fW5y0-WTOM"
      },
      "source": [
        "Problem 4"
      ]
    },
    {
      "cell_type": "code",
      "metadata": {
        "colab": {
          "base_uri": "https://localhost:8080/"
        },
        "id": "KeLQ__3zWWNy",
        "outputId": "d9d055f2-5a64-43cb-d503-6c77ce0470ee"
      },
      "source": [
        "def findword(word,doc_list):\n",
        "    return [i for i in doc_list if word.lower() in i.lower().replace('.',' ').replace(',',' ').split()]\n",
        "doc_list = [\"The Learn Python Challenge Rohit.\",\"They bought a car\",\"bangalore\",\"Rohit\"]\n",
        "word=str(input(\"Enter the word- \"))\n",
        "print(findword(word,doc_list))\n"
      ],
      "execution_count": null,
      "outputs": [
        {
          "output_type": "stream",
          "name": "stdout",
          "text": [
            "Enter the word- rohit\n",
            "['The Learn Python Challenge Rohit.', 'Rohit']\n"
          ]
        }
      ]
    },
    {
      "cell_type": "markdown",
      "metadata": {
        "id": "V9VN139Ea_z1"
      },
      "source": [
        "Problem 5\n"
      ]
    },
    {
      "cell_type": "code",
      "metadata": {
        "colab": {
          "base_uri": "https://localhost:8080/"
        },
        "id": "ydurB8t1bBEe",
        "outputId": "e53ec406-72c7-4681-865a-87f8b3c759e4"
      },
      "source": [
        "def grosspay(BP):\n",
        "    DA= 0.4*BP\n",
        "    HRA= 0.2*BP\n",
        "    return BP+DA+HRA\n",
        "\n",
        "basicpay=int(input(\"Enter the basic pay- \"))\n",
        "print(f\"Gross pay is {grosspay(basicpay)}\")"
      ],
      "execution_count": null,
      "outputs": [
        {
          "output_type": "stream",
          "name": "stdout",
          "text": [
            "Enter the basic pay- 100\n",
            "Gross pay is 160.0\n"
          ]
        }
      ]
    }
  ]
}