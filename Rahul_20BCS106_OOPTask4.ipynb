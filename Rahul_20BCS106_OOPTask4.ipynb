{
  "nbformat": 4,
  "nbformat_minor": 0,
  "metadata": {
    "colab": {
      "name": "Rahul_20BCS106_OOPTask4",
      "provenance": [],
      "authorship_tag": "ABX9TyPJbPbSE08oiUHhNn47E6jj",
      "include_colab_link": true
    },
    "kernelspec": {
      "name": "python3",
      "display_name": "Python 3"
    },
    "language_info": {
      "name": "python"
    }
  },
  "cells": [
    {
      "cell_type": "markdown",
      "metadata": {
        "id": "view-in-github",
        "colab_type": "text"
      },
      "source": [
        "<a href=\"https://colab.research.google.com/github/Rahul-Pentamsetty/OOP_Assignment/blob/main/Rahul_20BCS106_OOPTask4.ipynb\" target=\"_parent\"><img src=\"https://colab.research.google.com/assets/colab-badge.svg\" alt=\"Open In Colab\"/></a>"
      ]
    },
    {
      "cell_type": "markdown",
      "metadata": {
        "id": "qreJv-CC1FMb"
      },
      "source": [
        "1)"
      ]
    },
    {
      "cell_type": "code",
      "metadata": {
        "colab": {
          "base_uri": "https://localhost:8080/"
        },
        "id": "HAZTto_Y1HSM",
        "outputId": "55a862b7-74ce-4e35-ca70-05058c976077"
      },
      "source": [
        "class Node:\n",
        "    def __init__(self, data):\n",
        "        self.data=data\n",
        "        self.next=None\n",
        "    def __del__(self):\n",
        "        print(\"Node deallocated\")\n",
        "   \n",
        "class Stack:\n",
        "    def __init__(self):\n",
        "        self.head=None\n",
        "        \n",
        "    def isempty(self):\n",
        "        if self.head==None:\n",
        "            print(\"Stack is empty\")\n",
        "        else:\n",
        "            print(\"Stack is not empty\")\n",
        "\n",
        "    def push(self, val):\n",
        "        if self.head==None:\n",
        "            self.head=Node(val)\n",
        "        else:\n",
        "            temp=Node(val)\n",
        "            temp.next=self.head\n",
        "            self.head=temp\n",
        "    \n",
        "    def pop(self):\n",
        "        if self.head==None:\n",
        "            return 0\n",
        "        else:\n",
        "            temp=self.head\n",
        "            self.head=self.head.next\n",
        "            temp.next=None\n",
        "            return temp.data\n",
        "\n",
        "    def display(self):\n",
        "        if self.head==None:\n",
        "            return \"Stack is empty\"\n",
        "        else:\n",
        "            temp=self.head\n",
        "            while(temp!=None):\n",
        "                print(temp.data)\n",
        "                temp=temp.next\n",
        "                \n",
        "stack= Stack()\n",
        "stack.push(1)\n",
        "stack.push(2)\n",
        "stack.push(3)\n",
        "stack.push(4)\n",
        "stack.push(5)\n",
        "stack.pop()\n",
        "stack.isempty()\n",
        "stack.display()\n",
        "\n",
        "\n"
      ],
      "execution_count": 8,
      "outputs": [
        {
          "output_type": "stream",
          "name": "stdout",
          "text": [
            "Node deallocated\n",
            "Node deallocated\n",
            "Node deallocated\n",
            "Node deallocated\n",
            "Node deallocated\n",
            "Stack is not empty\n",
            "4\n",
            "3\n",
            "2\n",
            "1\n"
          ]
        }
      ]
    },
    {
      "cell_type": "markdown",
      "metadata": {
        "id": "cLB6Umlo_RL_"
      },
      "source": [
        "2)"
      ]
    },
    {
      "cell_type": "code",
      "metadata": {
        "colab": {
          "base_uri": "https://localhost:8080/"
        },
        "id": "T0uZ7FbO_R_k",
        "outputId": "fc7afa1f-af2b-49ce-f421-d54a0b2e97da"
      },
      "source": [
        "class rectdef:\n",
        "    def __init__(self,l, b):\n",
        "        self.l=l\n",
        "        self.b=b\n",
        "    \n",
        "    def area(self):\n",
        "        return self.l*self.b\n",
        "\n",
        "class rectpara:\n",
        "    def __init__(self):\n",
        "        self.l=3\n",
        "        self.b=4\n",
        "    \n",
        "    def area(self):\n",
        "        return self.l*self.b\n",
        "\n",
        "a = rectdef(4,5)\n",
        "b = rectpara()\n",
        "print(a.area())\n",
        "print(b.area())\n",
        "\n"
      ],
      "execution_count": 5,
      "outputs": [
        {
          "output_type": "stream",
          "name": "stdout",
          "text": [
            "20\n",
            "12\n"
          ]
        }
      ]
    },
    {
      "cell_type": "markdown",
      "metadata": {
        "id": "1fbi-OIwByAo"
      },
      "source": [
        "3)"
      ]
    },
    {
      "cell_type": "code",
      "metadata": {
        "colab": {
          "base_uri": "https://localhost:8080/"
        },
        "id": "S-Lz8i9yBy1X",
        "outputId": "1e01f5f8-9cd0-4c1e-8012-3379fc1bb7cb"
      },
      "source": [
        "class Node:\n",
        "    def __init__(self,data):\n",
        "        self.data=data\n",
        "        self.next=None\n",
        "    \n",
        "    def __del__(self):\n",
        "        print('Node deallocated')\n",
        "\n",
        "class Queue:\n",
        "    def __init__(self):\n",
        "        self.front=None\n",
        "        self.rear=None\n",
        "    \n",
        "    def isEmpty(self):\n",
        "        return self.front == None\n",
        "\n",
        "    def enqueue(self,data):\n",
        "        temp=Node(data)\n",
        "        if self.front==None:\n",
        "            self.front=self.rear=temp\n",
        "        else:\n",
        "            self.rear.next=temp\n",
        "            self.rear=temp\n",
        "\n",
        "    def dequeue(self):\n",
        "        if self.isEmpty():\n",
        "            return\n",
        "        temp = self.front\n",
        "        self.front = temp.next\n",
        " \n",
        "        if(self.front == None):\n",
        "            self.rear = None\n",
        "\n",
        "    def display(self):\n",
        "        temp=self.front\n",
        "        if self.front==None:\n",
        "            print(\"Queue is empty\")\n",
        "        else:\n",
        "            while(temp!=None):\n",
        "                print(temp.data)\n",
        "                temp=temp.next\n",
        "    \n",
        "queue=Queue()\n",
        "queue.enqueue(1)\n",
        "queue.enqueue(2)\n",
        "queue.enqueue(3)\n",
        "queue.enqueue(4)\n",
        "queue.enqueue(5)\n",
        "queue.dequeue()\n",
        "queue.display()\n",
        "\n",
        "\n"
      ],
      "execution_count": 11,
      "outputs": [
        {
          "output_type": "stream",
          "name": "stdout",
          "text": [
            "Node deallocated\n",
            "Node deallocated\n",
            "Node deallocated\n",
            "Node deallocated\n",
            "Node deallocated\n",
            "2\n",
            "3\n",
            "4\n",
            "5\n"
          ]
        }
      ]
    }
  ]
}